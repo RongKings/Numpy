{
 "cells": [
  {
   "cell_type": "code",
   "execution_count": 2,
   "metadata": {},
   "outputs": [
    {
     "name": "stdout",
     "output_type": "stream",
     "text": [
      "[0 1 2]\n",
      "[1.         2.71828183 7.3890561 ]\n",
      "[0.         1.         1.41421356]\n"
     ]
    }
   ],
   "source": [
    "import numpy as np\n",
    "B = np.arange(3)\n",
    "print (B)\n",
    "print (np.exp(B))              # e 幂\n",
    "print (np.sqrt(B))             # 根 号"
   ]
  },
  {
   "cell_type": "code",
   "execution_count": 14,
   "metadata": {},
   "outputs": [
    {
     "name": "stdout",
     "output_type": "stream",
     "text": [
      "[[8. 9. 5. 2.]\n",
      " [4. 6. 1. 6.]\n",
      " [8. 7. 2. 4.]]\n",
      "----------\n",
      "[8. 9. 5. 2. 4. 6. 1. 6. 8. 7. 2. 4.]\n",
      "----------\n",
      "1----------\n",
      "[[8. 5. 4. 1. 8. 2.]\n",
      " [9. 2. 6. 6. 7. 4.]]\n",
      "2----------\n",
      "(6, 2)\n",
      "3----------\n",
      "[[8. 9.]\n",
      " [5. 2.]\n",
      " [4. 6.]\n",
      " [1. 6.]\n",
      " [8. 7.]\n",
      " [2. 4.]]\n"
     ]
    }
   ],
   "source": [
    "#Return the floor of the input\n",
    "a = np.floor(10*np.random.random((3,4)))             # floor向下取整\n",
    "print (a)\n",
    "print (\"----------\")\n",
    "#a.shape\n",
    "## flatten the array\n",
    "print (a.ravel())                                    # ravel 矩阵拉平\n",
    "print (\"----------\")                                \n",
    "a.shape = (6, 2)                                    # shape 变换矩阵格式\n",
    "#print a \n",
    "print (\"1----------\")\n",
    "print (a.T)                                         #  a.T 转置      \n",
    "print (\"2----------\")\n",
    "print (a.shape)\n",
    "print (\"3----------\")\n",
    "print (a)\n",
    "\n",
    "#If a dimension is given as -1 in a reshaping operation, the other dimensions are automatically calculated:\n",
    "#a.reshape(3,-1)                                   "
   ]
  },
  {
   "cell_type": "code",
   "execution_count": 32,
   "metadata": {},
   "outputs": [
    {
     "name": "stdout",
     "output_type": "stream",
     "text": [
      "[[ 5.  6.]\n",
      " [ 1.  5.]]\n",
      "---\n",
      "[[ 8.  6.]\n",
      " [ 9.  0.]]\n",
      "---\n",
      "[[ 5.  6.  8.  6.]\n",
      " [ 1.  5.  9.  0.]]\n"
     ]
    }
   ],
   "source": [
    "import numpy as np                                   #矩阵拼接\n",
    "a = np.floor(10*np.random.random((2,2)))\n",
    "b = np.floor(10*np.random.random((2,2)))\n",
    "print a\n",
    "print '---'\n",
    "print b\n",
    "print '---'\n",
    "print np.hstack((a,b))                   # hstack 按行拼接     vstack 按列拼接      \n",
    "#np.hstack((a,b))"
   ]
  },
  {
   "cell_type": "code",
   "execution_count": 29,
   "metadata": {
    "scrolled": true
   },
   "outputs": [
    {
     "name": "stdout",
     "output_type": "stream",
     "text": [
      "[[2. 3. 7. 7. 6. 8. 8. 4. 1. 5. 9. 6.]\n",
      " [0. 1. 3. 4. 5. 0. 7. 2. 2. 9. 0. 4.]]\n",
      "[array([[2., 3., 7., 7.],\n",
      "       [0., 1., 3., 4.]]), array([[6., 8., 8., 4.],\n",
      "       [5., 0., 7., 2.]]), array([[1., 5., 9., 6.],\n",
      "       [2., 9., 0., 4.]])]\n",
      "[array([[2., 3., 7.],\n",
      "       [0., 1., 3.]]), array([[7.],\n",
      "       [4.]]), array([[6., 8., 8., 4., 1., 5., 9., 6.],\n",
      "       [5., 0., 7., 2., 2., 9., 0., 4.]])]\n",
      "[[0. 4.]\n",
      " [9. 4.]\n",
      " [0. 4.]\n",
      " [5. 0.]\n",
      " [2. 8.]\n",
      " [4. 5.]\n",
      " [1. 2.]\n",
      " [6. 6.]\n",
      " [4. 6.]\n",
      " [6. 1.]\n",
      " [9. 0.]\n",
      " [3. 1.]]\n"
     ]
    },
    {
     "data": {
      "text/plain": [
       "[array([[0., 4.],\n",
       "        [9., 4.],\n",
       "        [0., 4.],\n",
       "        [5., 0.]]), array([[2., 8.],\n",
       "        [4., 5.],\n",
       "        [1., 2.],\n",
       "        [6., 6.]]), array([[4., 6.],\n",
       "        [6., 1.],\n",
       "        [9., 0.],\n",
       "        [3., 1.]])]"
      ]
     },
     "execution_count": 29,
     "metadata": {},
     "output_type": "execute_result"
    }
   ],
   "source": [
    "a = np.floor(10*np.random.random((2,12)))             #切分\n",
    "print (a)\n",
    "print (np.hsplit(a,3))                                # hsplit  (a,分几份)  横向切割\n",
    "print (np.hsplit(a,(3,4)))                            #指定切割 (a,(b,c)) b,c 切割\n",
    "# Split a after the third and the fourth column\n",
    "a = np.floor(10*np.random.random((12,2)))\n",
    "print (a)                                         \n",
    "np.vsplit(a,3)                                        # vsolit  (a,分几份)  竖向切割"
   ]
  },
  {
   "cell_type": "code",
   "execution_count": 30,
   "metadata": {},
   "outputs": [
    {
     "name": "stdout",
     "output_type": "stream",
     "text": [
      "(3, 4)\n",
      "2403132654176\n",
      "2403132654176\n"
     ]
    }
   ],
   "source": [
    "#Simple assignments make no copy of array objects or of their data.\n",
    "a = np.arange(12)\n",
    "b = a\n",
    "# a and b are two names for the same ndarray object\n",
    "b is a\n",
    "b.shape = 3,4\n",
    "print (a.shape)\n",
    "print (id(a))\n",
    "print (id(b))"
   ]
  },
  {
   "cell_type": "code",
   "execution_count": 38,
   "metadata": {},
   "outputs": [
    {
     "name": "stdout",
     "output_type": "stream",
     "text": [
      "False\n",
      "(3, 4)\n",
      "[[   0    1    2    3 1234    5]\n",
      " [   6    7    8    9   10   11]]\n",
      "----------\n",
      "[[   0    1    2    3]\n",
      " [1234    5    6    7]\n",
      " [   8    9   10   11]]\n"
     ]
    }
   ],
   "source": [
    "#The view method creates a new array object that looks at the same data.\n",
    "c = a.view()                        # a.view  改变格式  共用值 \n",
    "print (c is a)\n",
    "c.shape = 2,6\n",
    "print (a.shape)\n",
    "c[0,4] = 1234 \n",
    "print (c)\n",
    "print (\"----------\")\n",
    "print (a)"
   ]
  },
  {
   "cell_type": "code",
   "execution_count": 46,
   "metadata": {},
   "outputs": [
    {
     "name": "stdout",
     "output_type": "stream",
     "text": [
      "[[9999    1    2    3]\n",
      " [1234    5    6    7]\n",
      " [   8    9   10   11]]\n",
      "[[   0    1    2    3]\n",
      " [1234    5    6    7]\n",
      " [   8    9   10   11]]\n"
     ]
    }
   ],
   "source": [
    "#The copy method makes a complete copy of the array and its data.\n",
    "d = a.copy()                      #a.copy   改变格式     改变值\n",
    "d is a\n",
    "d[0,0] = 9999\n",
    "print d \n",
    "print a"
   ]
  },
  {
   "cell_type": "code",
   "execution_count": null,
   "metadata": {
    "collapsed": true
   },
   "outputs": [],
   "source": []
  }
 ],
 "metadata": {
  "kernelspec": {
   "display_name": "Python 3",
   "language": "python",
   "name": "python3"
  },
  "language_info": {
   "codemirror_mode": {
    "name": "ipython",
    "version": 3
   },
   "file_extension": ".py",
   "mimetype": "text/x-python",
   "name": "python",
   "nbconvert_exporter": "python",
   "pygments_lexer": "ipython3",
   "version": "3.7.4"
  }
 },
 "nbformat": 4,
 "nbformat_minor": 1
}
